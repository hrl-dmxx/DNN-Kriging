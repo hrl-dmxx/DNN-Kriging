{
 "cells": [
  {
   "cell_type": "code",
   "execution_count": 1,
   "metadata": {},
   "outputs": [
    {
     "name": "stdout",
     "output_type": "stream",
     "text": [
      "生成的栅格测试集文件路径: E:/Desktop/duozhong/shijie/csv/1992_CZYB_grid_test.csv\n"
     ]
    }
   ],
   "source": [
    "import pandas as pd\n",
    "import numpy as np\n",
    "\n",
    "# 生成栅格点集作为测试集\n",
    "def generate_grid_test_set(train_file, cell_size=200):\n",
    "    train_data = pd.read_csv(train_file)\n",
    "    X_train = train_data[['X', 'Y']].values\n",
    "\n",
    "    # 确定训练集范围\n",
    "    x_min = np.min(X_train[:, 0]) - 500\n",
    "    x_max = np.max(X_train[:, 0]) + 500\n",
    "    y_min = np.min(X_train[:, 1]) - 500\n",
    "    y_max = np.max(X_train[:, 1]) + 500\n",
    "\n",
    "    # 根据范围和像元大小计算行列数\n",
    "    cols = int(np.ceil((x_max - x_min) / cell_size))\n",
    "    rows = int(np.ceil((y_max - y_min) / cell_size))\n",
    "\n",
    "    # 生成栅格点\n",
    "    x_coords = np.linspace(x_min, x_min + (cols - 1) * cell_size, cols)\n",
    "    y_coords = np.linspace(y_min, y_min + (rows - 1) * cell_size, rows)\n",
    "\n",
    "    X_test = []\n",
    "    for y in y_coords:\n",
    "        for x in x_coords:\n",
    "            X_test.append([x, y])\n",
    "\n",
    "    X_test = np.array(X_test)\n",
    "\n",
    "    # 保存为 CSV 文件\n",
    "    test_df = pd.DataFrame(X_test, columns=['X', 'Y'])\n",
    "    test_file = train_file.replace('.csv', '_grid_test.csv')\n",
    "    test_df.to_csv(test_file, index=False)\n",
    "\n",
    "    return test_file\n",
    "\n",
    "if __name__ == \"__main__\":\n",
    "    train_file = 'E:/Desktop/duozhong/shijie/csv/1992_CZYB.csv'  # 替换为你的训练数据文件路径\n",
    "    test_file = generate_grid_test_set(train_file)\n",
    "    print(f\"生成的栅格测试集文件路径: {test_file}\")    "
   ]
  }
 ],
 "metadata": {
  "kernelspec": {
   "display_name": "pytorch",
   "language": "python",
   "name": "python3"
  },
  "language_info": {
   "codemirror_mode": {
    "name": "ipython",
    "version": 3
   },
   "file_extension": ".py",
   "mimetype": "text/x-python",
   "name": "python",
   "nbconvert_exporter": "python",
   "pygments_lexer": "ipython3",
   "version": "3.8.19"
  }
 },
 "nbformat": 4,
 "nbformat_minor": 2
}
